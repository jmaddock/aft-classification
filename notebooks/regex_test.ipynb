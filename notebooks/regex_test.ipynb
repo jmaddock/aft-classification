{
 "cells": [
  {
   "cell_type": "code",
   "execution_count": 1,
   "id": "skilled-utilization",
   "metadata": {},
   "outputs": [],
   "source": [
    "import re"
   ]
  },
  {
   "cell_type": "code",
   "execution_count": 27,
   "id": "pressed-canyon",
   "metadata": {},
   "outputs": [
    {
     "data": {
      "text/plain": [
       "3"
      ]
     },
     "execution_count": 27,
     "metadata": {},
     "output_type": "execute_result"
    }
   ],
   "source": [
    "badword_regexes = [\n",
    "    r\"a+[sr]+s+e*([-_ ]?butt|clown|face|hole|hat|e?s)?\",\n",
    "    r\"(fat|stupid|lazy)a+[sr]+s+e*([-_ ]?butt|clown|face|hole|hat|e?s)?\",\n",
    "    r\"autofel+at(e|io|ing|ion)s?\",\n",
    "    r\"b+i+o?t+c+h+\\w*\",\n",
    "    r\"bootlip\",\n",
    "    r\"blow(job|me)\\w*\",\n",
    "    r\"bollock\\w*\",\n",
    "    r\"boo+ger\\w*\",\n",
    "    r\"b+u+t+t+([-_ ]?clown|face|hole|hat|es)?\",\n",
    "    r\"(ass|arse)b+u+t+t+([-_ ]?clown|face|hole|hat|es)?\",\n",
    "    r\"bugg(er|ing)\\w*\",\n",
    "    r\"butthead\", r\"buttface\", r\"buttsex\", r\"buttf+u+c*k+\\w*\",\n",
    "    r\"chlamydia\",\n",
    "    r\"cholo\",\n",
    "    r\"chug\",\n",
    "    r\"clunge\\w*\",\n",
    "    r\"cock\\w*\",\n",
    "    r\"coo+n\\w*\",\n",
    "    r\"[ck]racker\\w*\",\n",
    "    r\"c+?u+?n+?t\\w*\",\n",
    "    r\"crack[-_ ]?head\\w*\",\n",
    "    r\"crooks?\",\n",
    "    r\"defraud\",\n",
    "    r\"limpdick\\w*\",\n",
    "    r\"dick\\w*\",\n",
    "    r\"d+?i+?l+?d+?o+?\\w*\",\n",
    "    r\"dishonest\\w*\",\n",
    "    r\"dot[-_ ]?head\\w*\",\n",
    "    r\"dyk(e|ing)\\w*\",\n",
    "    r\"(f|ph)a+g+(ot)?\\w*\",\n",
    "    r\"fart\\w*\",\n",
    "    r\"fraud\",\n",
    "    r\"f+u+c*k+\\w*\",\n",
    "    r\"gh?[ea]+y+\\w*\",\n",
    "    r\"g[yi]p+(o|y|ie?)?\", r\"gyppie\",\n",
    "    r\"goo+k\",\n",
    "    r\"gringo\",\n",
    "    r\"he+rpe+s\",\n",
    "    r\"hill-?billy\",\n",
    "    r\"hom(a|o|er)(sexual)?\\w*\",\n",
    "    r\"hooker\\w*\",\n",
    "    r\"injun\\w*\",\n",
    "    r\"j+a+p+o?\",\n",
    "    r\"k[iy]+ke\",\n",
    "    r\"kwash(i|ee)\",\n",
    "    r\"l+?e+?s+?b+?(o+?|i+?a+?n+?)\\w*\",\n",
    "    r\"liar\",\n",
    "    r\"lick(er)?s?\",\n",
    "    r\"meth\",\n",
    "    r\"meth[-_ ]?head\\w*\",\n",
    "    r\"naz+i(sm?)?\",\n",
    "    r\"nig\", r\"n+?i+?gg+?[aeious]+?\\w*\", r\"niglet\", r\"nigor\", r\"nigr\", r\"nigra\",\n",
    "    r\"nonc(e|ing)\\w*\",\n",
    "    r\"overdose[sd]\",\n",
    "    r\"peckerwood\\w*\",\n",
    "    r\"p(a?e|æ)do((f|ph)[iy]le)?s?\",\n",
    "    r\"peni(s)?\\w*\",\n",
    "    r\"piss\\w*\",\n",
    "    r\"prostitute\\w*\",\n",
    "    r\"pot[-_ ]?head\\w*\",\n",
    "    r\"q(w|u)ash(i|ee)\",\n",
    "    r\"rag[-_ ]?head\",\n",
    "    r\"red[-_ ]?(neck|skin)\",\n",
    "    r\"round[-_ ]?eye\",\n",
    "    r\"satan(ic|ism|ist)s?\",\n",
    "    r\"scabies\",\n",
    "    r\"s+h+[ia]+t+\\w*\",\n",
    "    r\"s+?l+?u+?t+?\\w*\",\n",
    "    r\"spi(g|c|k)+\",\n",
    "    r\"spigotty\",\n",
    "    r\"spik\",\n",
    "    r\"spook\",\n",
    "    r\"squarehead\",\n",
    "    r\"stupid(s+h+[ia]+t+|c+u+n+t+|f+u+c*k+|t+w+a+t+|w+h+o+r+e+)\\w*\",\n",
    "    r\"subnormal\",\n",
    "    r\"su+c*k+(er|iest|a)\",\n",
    "    r\"syphil+is\",\n",
    "    r\"terror(ist|ism|i[zs](e|ing|ed))s?\",\n",
    "    r\"thei[fv](e?s)?\",\n",
    "    r\"tran(ny|sexual)\",\n",
    "    r\"t+?w+?a+?t+?\\w*\",\n",
    "    r\"ti+t+((s|ies|y)[\\w]*)?\",\n",
    "    r\"v+?a+?g+?(i+n+a+)?\", r\"vajay?jay?\\w*\",\n",
    "    r\"wank\\w*\", r\"wetback\\w*\", r\"w+h+o+r+(e+|ing)\\w*\", r\"w+o+g+\", r\"w+o+p+\",\n",
    "    r\"yank(e+)?\", r\"yid\",\n",
    "    r\"zipperhead\"\n",
    "]\n",
    "\n",
    "pattern = re.compile('({0})'.format(')|('.join(badword_regexes)))\n",
    "len(pattern.findall('this is a test subnormal sentence with some bad words ass zipperhead what'))"
   ]
  },
  {
   "cell_type": "code",
   "execution_count": 20,
   "id": "mature-fight",
   "metadata": {},
   "outputs": [
    {
     "data": {
      "text/plain": [
       "'(a+[sr]+s+e*([-_ ]?butt|clown|face|hole|hat|e?s)?)|((fat|stupid|lazy)a+[sr]+s+e*([-_ ]?butt|clown|face|hole|hat|e?s)?)|(autofel+at(e|io|ing|ion)s?)|(b+i+o?t+c+h+\\\\w*)|(bootlip)|(blow(job|me)\\\\w*)|(bollock\\\\w*)|(boo+ger\\\\w*)|(b+u+t+t+([-_ ]?clown|face|hole|hat|es)?)|((ass|arse)b+u+t+t+([-_ ]?clown|face|hole|hat|es)?)|(bugg(er|ing)\\\\w*)|(butthead)|(buttface)|(buttsex)|(buttf+u+c*k+\\\\w*)|(chlamydia)|(cholo)|(chug)|(clunge\\\\w*)|(cock\\\\w*)|(coo+n\\\\w*)|([ck]racker\\\\w*)|(c+?u+?n+?t\\\\w*)|(crack[-_ ]?head\\\\w*)|(crooks?)|(defraud)|(limpdick\\\\w*)|(dick\\\\w*)|(d+?i+?l+?d+?o+?\\\\w*)|(dishonest\\\\w*)|(dot[-_ ]?head\\\\w*)|(dyk(e|ing)\\\\w*)|((f|ph)a+g+(ot)?\\\\w*)|(fart\\\\w*)|(fraud)|(f+u+c*k+\\\\w*)|(gh?[ea]+y+\\\\w*)|(g[yi]p+(o|y|ie?)?)|(gyppie)|(goo+k)|(gringo)|(he+rpe+s)|(hill-?billy)|(hom(a|o|er)(sexual)?\\\\w*)|(hooker\\\\w*)|(injun\\\\w*)|(j+a+p+o?)|(k[iy]+ke)|(kwash(i|ee))|(l+?e+?s+?b+?(o+?|i+?a+?n+?)\\\\w*)|(liar)|(lick(er)?s?)|(meth)|(meth[-_ ]?head\\\\w*)|(naz+i(sm?)?)|(nig)|(n+?i+?gg+?[aeious]+?\\\\w*)|(niglet)|(nigor)|(nigr)|(nigra)|(nonc(e|ing)\\\\w*)|(overdose[sd])|(peckerwood\\\\w*)|(p(a?e|æ)do((f|ph)[iy]le)?s?)|(peni(s)?\\\\w*)|(piss\\\\w*)|(prostitute\\\\w*)|(pot[-_ ]?head\\\\w*)|(q(w|u)ash(i|ee))|(rag[-_ ]?head)|(red[-_ ]?(neck|skin))|(round[-_ ]?eye)|(satan(ic|ism|ist)s?)|(scabies)|(s+h+[ia]+t+\\\\w*)|(s+?l+?u+?t+?\\\\w*)|(spi(g|c|k)+)|(spigotty)|(spik)|(spook)|(squarehead)|(stupid(s+h+[ia]+t+|c+u+n+t+|f+u+c*k+|t+w+a+t+|w+h+o+r+e+)\\\\w*)|(subnormal)|(su+c*k+(er|iest|a))|(syphil+is)|(terror(ist|ism|i[zs](e|ing|ed))s?)|(thei[fv](e?s)?)|(tran(ny|sexual))|(t+?w+?a+?t+?\\\\w*)|(ti+t+((s|ies|y)[\\\\w]*)?)|(v+?a+?g+?(i+n+a+)?)|(vajay?jay?\\\\w*)|(wank\\\\w*)|(wetback\\\\w*)|(w+h+o+r+(e+|ing)\\\\w*)|(w+o+g+)|(w+o+p+)|(yank(e+)?)|(yid)|(zipperhead)'"
      ]
     },
     "execution_count": 20,
     "metadata": {},
     "output_type": "execute_result"
    }
   ],
   "source": [
    "'({0})'.format(')|('.join(badword_regexes))"
   ]
  },
  {
   "cell_type": "code",
   "execution_count": null,
   "id": "least-finish",
   "metadata": {},
   "outputs": [],
   "source": []
  }
 ],
 "metadata": {
  "kernelspec": {
   "display_name": "Python 3",
   "language": "python",
   "name": "python3"
  },
  "language_info": {
   "codemirror_mode": {
    "name": "ipython",
    "version": 3
   },
   "file_extension": ".py",
   "mimetype": "text/x-python",
   "name": "python",
   "nbconvert_exporter": "python",
   "pygments_lexer": "ipython3",
   "version": "3.7.3"
  }
 },
 "nbformat": 4,
 "nbformat_minor": 5
}
