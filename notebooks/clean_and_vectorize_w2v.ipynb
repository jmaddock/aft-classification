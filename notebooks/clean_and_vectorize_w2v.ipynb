{
 "cells": [
  {
   "cell_type": "code",
   "execution_count": 40,
   "id": "fixed-township",
   "metadata": {},
   "outputs": [],
   "source": [
    "import csv\n",
    "import json\n",
    "import argparse\n",
    "import logging\n",
    "import functools\n",
    "import numpy as np\n",
    "import pandas as pd\n",
    "\n",
    "from gensim.models import KeyedVectors\n",
    "from sklearn.feature_extraction.text import TfidfVectorizer\n",
    "\n",
    "class CleanAndVectorize(object):\n",
    "\n",
    "    def __init__(self, en_kvs_path, **kwargs):\n",
    "        max_df = kwargs.get('max_df',.9)\n",
    "        max_features = kwargs.get('max_features', 1000)\n",
    "        self.tfidf_vectorizer = TfidfVectorizer(\n",
    "            strip_accents='unicode',\n",
    "            lowercase=True,\n",
    "            analyzer='word',\n",
    "            max_df=max_df,\n",
    "            max_features=max_features\n",
    "        )\n",
    "        self.w2v_vectorizer = KeyedVectors.load(en_kvs_path,mmap='r')\n",
    "        self.tokenizer = self.tfidf_vectorizer.build_tokenizer()\n",
    "        self.cols_to_extract = [\n",
    "            'aft_id',\n",
    "            'aft_page',\n",
    "            'aft_page_revision',\n",
    "            'aft_user',\n",
    "            'aft_user_text',\n",
    "            'aft_comment',\n",
    "            'aft_noaction',\n",
    "            'aft_inappropriate',\n",
    "            'aft_helpful',\n",
    "            'aft_unhelpful',\n",
    "            'aft_rating'\n",
    "        ]\n",
    "\n",
    "    def get_token_vector(self, token):\n",
    "         if token in self.w2v_vectorizer:\n",
    "            return self.w2v_vectorizer[token]\n",
    "         else:\n",
    "            return None\n",
    "\n",
    "    def get_sentence_vector(self, token_list):\n",
    "        vector_list = np.array([self.get_token_vector(x) for x in token_list if self.get_token_vector(x) is not None])\n",
    "        sentence_vector = np.mean(vector_list,axis=0)\n",
    "        return sentence_vector\n",
    "\n",
    "    def get_feature_vector(self,observation,add_rating=False):\n",
    "        feature_vector = self.get_sentence_vector(observation['tokenized_text'])\n",
    "        if add_rating:\n",
    "            feature_vector = np.append(feature_vector,observation['aft_rating'])\n",
    "        return feature_vector\n",
    "\n",
    "    def process(self, observations, save_tokens=False, remove_zero=True, debug=False, add_rating=False):\n",
    "        if debug:\n",
    "            observations = observations.sample(debug)\n",
    "        observations = observations[self.cols_to_extract]\n",
    "        observations['aft_comment'] = observations['aft_comment'].astype(str)\n",
    "        observations['aft_net_sign_helpful'] = np.sign(\n",
    "            observations['aft_helpful'] - observations['aft_unhelpful']).astype(int)\n",
    "        if remove_zero:\n",
    "            observations = observations.loc[observations['aft_net_sign_helpful'] != 0]\n",
    "        observations['tokenized_text'] = observations['aft_comment'].apply(self.tokenizer)\n",
    "        observations['feature_vector'] = observations[['tokenized_text','aft_rating']].apply(\n",
    "            self.get_feature_vector,\n",
    "            axis=1,\n",
    "            add_rating=add_rating)\n",
    "        if not save_tokens:\n",
    "            observations.drop(labels='tokenized_text',axis=1,inplace=True)\n",
    "        return observations"
   ]
  },
  {
   "cell_type": "code",
   "execution_count": 41,
   "id": "painful-princess",
   "metadata": {},
   "outputs": [
    {
     "name": "stderr",
     "output_type": "stream",
     "text": [
      "/Users/klogg/dev/aft-classification/venv/lib/python3.7/site-packages/ipykernel_launcher.py:61: SettingWithCopyWarning: \n",
      "A value is trying to be set on a copy of a slice from a DataFrame.\n",
      "Try using .loc[row_indexer,col_indexer] = value instead\n",
      "\n",
      "See the caveats in the documentation: https://pandas.pydata.org/pandas-docs/stable/user_guide/indexing.html#returning-a-view-versus-a-copy\n",
      "/Users/klogg/dev/aft-classification/venv/lib/python3.7/site-packages/ipykernel_launcher.py:63: SettingWithCopyWarning: \n",
      "A value is trying to be set on a copy of a slice from a DataFrame.\n",
      "Try using .loc[row_indexer,col_indexer] = value instead\n",
      "\n",
      "See the caveats in the documentation: https://pandas.pydata.org/pandas-docs/stable/user_guide/indexing.html#returning-a-view-versus-a-copy\n",
      "/Users/klogg/dev/aft-classification/venv/lib/python3.7/site-packages/numpy/core/fromnumeric.py:3335: RuntimeWarning: Mean of empty slice.\n",
      "  out=out, **kwargs)\n",
      "/Users/klogg/dev/aft-classification/venv/lib/python3.7/site-packages/numpy/core/_methods.py:161: RuntimeWarning: invalid value encountered in double_scalars\n",
      "  ret = ret.dtype.type(ret / rcount)\n"
     ]
    }
   ],
   "source": [
    "INFILE = '/Users/klogg/research_data/aft/raw/dump_03-24-20.csv'\n",
    "EN_KVS_PATH = '../word2vec/aft_2021-03-30_learned_vectors.50_cell.10k.kv'\n",
    "MAX_DF = .9\n",
    "MAX_FEATURES = 10000\n",
    "\n",
    "def main():\n",
    "    cv = CleanAndVectorize(en_kvs_path=EN_KVS_PATH,\n",
    "                           max_df=MAX_DF,\n",
    "                           max_features=MAX_FEATURES)\n",
    "\n",
    "    dtypes = {\n",
    "        'aft_id': object,\n",
    "        'aft_helpful':int,\n",
    "        'aft_unhelpful':int\n",
    "    }\n",
    "\n",
    "    df = pd.read_csv(INFILE, escapechar='\\\\', encoding='latin-1', dtype=dtypes)\n",
    "    observations = cv.process(df, save_tokens=True, debug=False, add_rating=True)\n",
    "    return observations\n",
    "\n",
    "obs = main()"
   ]
  },
  {
   "cell_type": "code",
   "execution_count": 42,
   "id": "musical-stuff",
   "metadata": {},
   "outputs": [
    {
     "data": {
      "text/plain": [
       "array([-1.43821940e-01,  6.97671846e-02, -2.36414969e-01,  5.72709600e-03,\n",
       "        1.55032529e-02, -3.16005737e-01,  6.57286495e-02,  2.02870175e-01,\n",
       "       -1.26426026e-01,  2.98555940e-04, -1.14737488e-01, -2.20336363e-01,\n",
       "        1.60859346e-01,  2.10554555e-01,  2.38807157e-01, -1.91290855e-01,\n",
       "        2.99929958e-02, -8.76369253e-02, -7.23370984e-02, -2.70107120e-01,\n",
       "        1.94340423e-01,  1.10746957e-01,  1.49565518e-01,  1.41683578e-01,\n",
       "       -6.05661124e-02,  1.36302054e-01,  1.49840489e-03, -3.99364494e-02,\n",
       "       -5.90743423e-02,  3.13654095e-02,  1.06537096e-01,  1.21368235e-02,\n",
       "        1.50465026e-01, -1.14219040e-01, -3.97400744e-02,  1.88044310e-01,\n",
       "        5.09557612e-02, -2.81467915e-01, -7.31434152e-02, -2.49296010e-01,\n",
       "        3.87942907e-03, -9.02001858e-02,  6.95658028e-02,  6.47363588e-02,\n",
       "        2.53096193e-01, -2.67112255e-02, -2.62890846e-01, -2.78336871e-02,\n",
       "        1.85242575e-02, -8.21775869e-02,  1.93805590e-01, -2.16914579e-01,\n",
       "       -1.72123805e-01, -1.05567640e-02,  4.40380685e-02, -5.86115681e-02,\n",
       "        2.62041420e-01, -2.71807224e-01, -8.18443522e-02, -1.99555922e-02,\n",
       "        1.97256878e-02, -2.37203706e-02,  2.02900365e-01,  1.17904551e-01,\n",
       "       -2.35750362e-01,  2.03649089e-01,  1.15739614e-01,  2.45403484e-01,\n",
       "       -2.64906079e-01,  3.07987243e-01, -4.97834533e-02,  1.28156364e-01,\n",
       "        2.29524095e-02,  4.61064242e-02,  1.03788614e-01,  1.04384661e-01,\n",
       "       -5.22376038e-03, -2.23879423e-02, -2.58992910e-01,  4.23038453e-02,\n",
       "       -2.18788162e-01,  1.45930024e-02, -1.97564140e-01,  2.62220144e-01,\n",
       "        6.39567198e-03,  3.88752222e-02, -2.18980759e-02,  6.98371008e-02,\n",
       "        1.95108414e-01, -6.10319078e-02,  1.00980140e-01, -6.59141736e-03,\n",
       "       -5.44422902e-02,  1.81480393e-01,  1.32864401e-01,  1.82381999e-02,\n",
       "        9.36716422e-02,  2.94876080e-02, -2.34396216e-02,  6.47654617e-03,\n",
       "        1.00000000e+00])"
      ]
     },
     "execution_count": 42,
     "metadata": {},
     "output_type": "execute_result"
    }
   ],
   "source": [
    "obs['feature_vector'].values[0]"
   ]
  },
  {
   "cell_type": "code",
   "execution_count": 57,
   "id": "graphic-webster",
   "metadata": {},
   "outputs": [
    {
     "name": "stdout",
     "output_type": "stream",
     "text": [
      "['would', 'like', 'to', 'see', 'slow', 'motion', 'video', 'of', 'the', 'bird', 'in', 'flight']\n",
      "0.05682149529457092\n"
     ]
    },
    {
     "data": {
      "text/plain": [
       "array([ 0.0568215 , -0.3066395 , -0.28566322, -0.13666338, -0.05532772,\n",
       "       -0.3608138 ,  0.0075072 ,  0.16905984, -0.13999851,  0.13351338,\n",
       "        0.13737293, -0.22367471,  0.2647468 ,  0.22383589,  0.44950858,\n",
       "       -0.2891215 ,  0.1507743 , -0.4213552 ,  0.14426196, -0.47709417,\n",
       "        0.14366364,  0.2021275 ,  0.03864039,  0.09420528, -0.06705882,\n",
       "        0.07575061, -0.050212  ,  0.2046325 , -0.01465037, -0.11790362,\n",
       "        0.24675864, -0.02687174,  0.10321139, -0.33421355,  0.13988695,\n",
       "       -0.11801925, -0.09370565, -0.2274586 ,  0.18588531,  0.05070408,\n",
       "        0.19288698,  0.06702584,  0.22366005,  0.16435963,  0.3781227 ,\n",
       "        0.0137325 , -0.14515842,  0.195574  , -0.19217825, -0.4598347 ,\n",
       "        0.1323308 , -0.26630846, -0.29761618, -0.2867014 , -0.00855857,\n",
       "       -0.03021667,  0.35198584, -0.10469019,  0.03362226,  0.00457836,\n",
       "       -0.15503244, -0.18691689,  0.2599187 ,  0.20181444, -0.25708008,\n",
       "        0.2788821 , -0.10041464,  0.39921364, -0.217136  ,  0.46092212,\n",
       "       -0.21662   ,  0.21925184, -0.0213612 ,  0.10001605,  0.37353313,\n",
       "        0.15803358, -0.10381433, -0.02794488, -0.2928099 ,  0.3049636 ,\n",
       "       -0.20820996,  0.15937364, -0.44939828,  0.21578775,  0.14794046,\n",
       "        0.16414443, -0.1656836 ,  0.16160052,  0.37327504, -0.16035758,\n",
       "        0.18057416,  0.03464565,  0.14620379,  0.34560305,  0.06428473,\n",
       "        0.08289343,  0.1856174 ,  0.07640219, -0.02282007,  0.10451265],\n",
       "      dtype=float32)"
      ]
     },
     "execution_count": 57,
     "metadata": {},
     "output_type": "execute_result"
    }
   ],
   "source": [
    "cv = CleanAndVectorize(en_kvs_path=EN_KVS_PATH,\n",
    "                       max_df=MAX_DF,\n",
    "                       max_features=MAX_FEATURES)\n",
    "\n",
    "obs['tokenized_text'].values[0]\n",
    "\n",
    "print(obs['tokenized_text'].values[0])\n",
    "\n",
    "v1 = cv.get_token_vector(obs['tokenized_text'].values[0][0])[0]\n",
    "v2 = cv.get_token_vector(obs['tokenized_text'].values[0][1])[0]\n",
    "print((v1+v2)/2)\n",
    "\n",
    "\n",
    "cv.get_sentence_vector(obs['tokenized_text'].values[0][0:2])"
   ]
  },
  {
   "cell_type": "code",
   "execution_count": null,
   "id": "listed-musician",
   "metadata": {},
   "outputs": [],
   "source": []
  }
 ],
 "metadata": {
  "kernelspec": {
   "display_name": "Python 3",
   "language": "python",
   "name": "python3"
  },
  "language_info": {
   "codemirror_mode": {
    "name": "ipython",
    "version": 3
   },
   "file_extension": ".py",
   "mimetype": "text/x-python",
   "name": "python",
   "nbconvert_exporter": "python",
   "pygments_lexer": "ipython3",
   "version": "3.7.3"
  }
 },
 "nbformat": 4,
 "nbformat_minor": 5
}
