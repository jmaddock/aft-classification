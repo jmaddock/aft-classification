{
 "cells": [
  {
   "cell_type": "code",
   "execution_count": 15,
   "id": "passing-atlanta",
   "metadata": {},
   "outputs": [
    {
     "name": "stderr",
     "output_type": "stream",
     "text": [
      "/Users/klogg/dev/aft-classification/venv/lib/python3.7/site-packages/gensim/similarities/__init__.py:15: UserWarning: The gensim.similarities.levenshtein submodule is disabled, because the optional Levenshtein package <https://pypi.org/project/python-Levenshtein/> is unavailable. Install Levenhstein (e.g. `pip install python-Levenshtein`) to suppress this warning.\n",
      "  warnings.warn(msg)\n"
     ]
    }
   ],
   "source": [
    "import pandas as pd\n",
    "from sklearn.feature_extraction.text import TfidfVectorizer\n",
    "from gensim.models import Word2Vec"
   ]
  },
  {
   "cell_type": "code",
   "execution_count": 10,
   "id": "brown-thumbnail",
   "metadata": {},
   "outputs": [],
   "source": [
    "def tokenize(observations):\n",
    "    vectorizer = TfidfVectorizer(\n",
    "        strip_accents='unicode',\n",
    "        lowercase=True,\n",
    "        analyzer='word',\n",
    "    )\n",
    "    tokenizer = vectorizer.build_tokenizer()\n",
    "    observations['aft_comment'] = observations['aft_comment'].astype(str)\n",
    "    tokenized_text = observations['aft_comment'].apply(tokenizer).values\n",
    "    return tokenized_text"
   ]
  },
  {
   "cell_type": "code",
   "execution_count": 12,
   "id": "fifth-carolina",
   "metadata": {},
   "outputs": [],
   "source": [
    "INFILE = '/Users/klogg/research_data/aft/raw/dump_03-24-20.csv'\n",
    "\n",
    "dtypes = {\n",
    "    'aft_id': object,\n",
    "    'aft_helpful':int,\n",
    "    'aft_unhelpful':int\n",
    "}\n",
    "\n",
    "df = pd.read_csv(INFILE, escapechar='\\\\', encoding='latin-1', dtype=dtypes)\n",
    "tokenized_text = tokenize(df)"
   ]
  },
  {
   "cell_type": "code",
   "execution_count": 21,
   "id": "surprising-glossary",
   "metadata": {},
   "outputs": [],
   "source": [
    "OUTFILE = '../word2vec/aft_2021-03-30_learned_vectors.50_cell.10k.kv'\n",
    "\n",
    "model = Word2Vec(sentences=tokenized_text,\n",
    "                 vector_size=100,\n",
    "                 window=5,\n",
    "                 min_count=1,\n",
    "                 workers=4,\n",
    "                 sg=1,\n",
    "                 max_final_vocab=10000)\n",
    "word_vectors = model.wv\n",
    "word_vectors.save(OUTFILE)"
   ]
  },
  {
   "cell_type": "code",
   "execution_count": null,
   "id": "circular-music",
   "metadata": {},
   "outputs": [],
   "source": []
  }
 ],
 "metadata": {
  "kernelspec": {
   "display_name": "Python 3",
   "language": "python",
   "name": "python3"
  },
  "language_info": {
   "codemirror_mode": {
    "name": "ipython",
    "version": 3
   },
   "file_extension": ".py",
   "mimetype": "text/x-python",
   "name": "python",
   "nbconvert_exporter": "python",
   "pygments_lexer": "ipython3",
   "version": "3.7.3"
  }
 },
 "nbformat": 4,
 "nbformat_minor": 5
}
