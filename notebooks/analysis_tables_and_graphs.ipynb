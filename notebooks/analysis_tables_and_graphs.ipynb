{
 "cells": [
  {
   "cell_type": "markdown",
   "id": "trying-integration",
   "metadata": {},
   "source": [
    "## TODO\n",
    "\n",
    "* Table containing accuracy, precision, specificity, recall, f1, roc-auc for best classifier configurations\n",
    "* Roc-auc graphs for each best classifier configuration\n",
    "* Table of accuracy, precision, specificity, and percent uncertainty at each threshold\n",
    "* Graphs of accuracy, precision, specificity, and percent uncertainty at each threshold\n",
    "* Some kind of graph/table using empath (top categories at each threshold?)\n"
   ]
  },
  {
   "cell_type": "code",
   "execution_count": 58,
   "id": "resistant-lease",
   "metadata": {},
   "outputs": [],
   "source": [
    "import json\n",
    "import yaml\n",
    "import importlib\n",
    "import pickle\n",
    "import pandas as pd\n",
    "import numpy as np\n",
    "import matplotlib.pyplot as plt\n",
    "\n",
    "from sklearn.model_selection import train_test_split\n",
    "from sklearn.ensemble import RandomForestClassifier, GradientBoostingClassifier\n",
    "from sklearn.linear_model import LogisticRegression\n",
    "from sklearn.svm import SVC\n",
    "from sklearn.metrics import accuracy_score, average_precision_score, precision_score, recall_score, f1_score, average_precision_score, roc_auc_score, roc_curve, auc, precision_recall_curve\n",
    "from sklearn.pipeline import Pipeline\n",
    "from sklearn.base import BaseEstimator\n",
    "from sklearn.model_selection import GridSearchCV\n",
    "from scipy.sparse import load_npz\n",
    "\n",
    "from functools import partial\n",
    "\n",
    "class DummyEstimator(BaseEstimator):\n",
    "    def fit(self): pass\n",
    "    def score(self): pass"
   ]
  },
  {
   "cell_type": "code",
   "execution_count": 6,
   "id": "biological-patient",
   "metadata": {},
   "outputs": [],
   "source": [
    "MODEL_BINARY_PATH = '../models/best_models_w2v_rating_2021-05-29.pickle'\n",
    "\n",
    "with open(MODEL_BINARY_PATH, 'rb') as filestream:\n",
    "    d = pickle.load(filestream)"
   ]
  },
  {
   "cell_type": "code",
   "execution_count": 11,
   "id": "central-glasgow",
   "metadata": {},
   "outputs": [],
   "source": [
    "METRICS = {\n",
    "    'accuracy':accuracy_score,\n",
    "    'precision':precision_score,\n",
    "    'negative predictive value':partial(precision_score,pos_label = -1),\n",
    "    'recall':recall_score,\n",
    "    'f1':f1_score,\n",
    "    'average_precision':average_precision_score,\n",
    "    'roc_auc':roc_auc_score\n",
    "}\n",
    "\n",
    "def generate_sample(df,n,balance=True):\n",
    "    if balance and n:\n",
    "        pos = df.loc[df['aft_net_sign_helpful'] > 0].sample(int(n/2))\n",
    "        neg = df.loc[df['aft_net_sign_helpful'] < 0].sample(int(n/2))\n",
    "        sample = pos.append(neg)\n",
    "    elif n:\n",
    "        sample = df.loc[df['aft_net_sign_helpful'] != 0].sample(n)\n",
    "    else:\n",
    "        sample = df.loc[df['aft_net_sign_helpful'] != 0]\n",
    "    return sample\n",
    "\n",
    "def proba_to_preds(probability_list,threshold=.5):\n",
    "    preds = []\n",
    "    for proba in probability_list:\n",
    "        if proba[1] > threshold:\n",
    "            preds.append(1)\n",
    "        elif proba[0] > threshold:\n",
    "            preds.append(-1)\n",
    "        else:\n",
    "            preds.append(0)\n",
    "    return preds\n",
    "\n",
    "def results_to_table(proba,truth):\n",
    "    result_dict = results_to_json(proba,truth)\n",
    "    return pd.DataFrame([result_dict])\n",
    "    #return results\n",
    "\n",
    "def results_to_json(proba,truth):\n",
    "    preds = proba_to_preds(proba)\n",
    "    results_dict = {}\n",
    "    for metric in METRICS:\n",
    "        if metric == 'roc_auc':\n",
    "            results_dict[metric] = METRICS[metric](truth,proba[:, 1])\n",
    "        else:\n",
    "            results_dict[metric] = METRICS[metric](truth,preds)\n",
    "    return results_dict"
   ]
  },
  {
   "cell_type": "code",
   "execution_count": 12,
   "id": "basic-tokyo",
   "metadata": {},
   "outputs": [],
   "source": [
    "feature_path_w2v = '../datasets/vectorized/vectorized_w2v_rating_2021-03-31.json'\n",
    "\n",
    "def load_dataset(feature_path,sparse_matrix_path=None):\n",
    "    with open(feature_path,'r') as filestream:\n",
    "        df = pd.DataFrame(json.load(filestream))\n",
    "\n",
    "    df = generate_sample(df, None)\n",
    "    df = df.reset_index()\n",
    "    \n",
    "    if sparse_matrix_path:\n",
    "        with open(sparse_matrix_path,'rb') as filestream:\n",
    "            features = load_npz(filestream)\n",
    "            \n",
    "    else:\n",
    "        features = pd.DataFrame(df['feature_vector'].values.tolist()).to_numpy()\n",
    "\n",
    "    labels = df['aft_net_sign_helpful'].to_numpy()\n",
    "    \n",
    "    return features, labels\n",
    "\n",
    "features, labels = load_dataset(feature_path_w2v)"
   ]
  },
  {
   "cell_type": "code",
   "execution_count": 13,
   "id": "metallic-sally",
   "metadata": {},
   "outputs": [],
   "source": [
    "labels_train = labels[d['indices']['train']]\n",
    "labels_test = labels[d['indices']['test']]\n",
    "features_train = features[d['indices']['train']]\n",
    "features_test = features[d['indices']['test']]"
   ]
  },
  {
   "cell_type": "code",
   "execution_count": 22,
   "id": "automated-essence",
   "metadata": {},
   "outputs": [
    {
     "data": {
      "text/html": [
       "<div>\n",
       "<style scoped>\n",
       "    .dataframe tbody tr th:only-of-type {\n",
       "        vertical-align: middle;\n",
       "    }\n",
       "\n",
       "    .dataframe tbody tr th {\n",
       "        vertical-align: top;\n",
       "    }\n",
       "\n",
       "    .dataframe thead th {\n",
       "        text-align: right;\n",
       "    }\n",
       "</style>\n",
       "<table border=\"1\" class=\"dataframe\">\n",
       "  <thead>\n",
       "    <tr style=\"text-align: right;\">\n",
       "      <th></th>\n",
       "      <th>accuracy</th>\n",
       "      <th>precision</th>\n",
       "      <th>specificity</th>\n",
       "      <th>recall</th>\n",
       "      <th>f1</th>\n",
       "      <th>average_precision</th>\n",
       "      <th>roc_auc</th>\n",
       "      <th>classifier</th>\n",
       "    </tr>\n",
       "  </thead>\n",
       "  <tbody>\n",
       "    <tr>\n",
       "      <th>0</th>\n",
       "      <td>0.642755</td>\n",
       "      <td>0.595956</td>\n",
       "      <td>0.669042</td>\n",
       "      <td>0.502844</td>\n",
       "      <td>0.545455</td>\n",
       "      <td>0.511595</td>\n",
       "      <td>0.68894</td>\n",
       "      <td>LogisticRegression</td>\n",
       "    </tr>\n",
       "    <tr>\n",
       "      <th>0</th>\n",
       "      <td>0.642755</td>\n",
       "      <td>0.595956</td>\n",
       "      <td>0.669042</td>\n",
       "      <td>0.502844</td>\n",
       "      <td>0.545455</td>\n",
       "      <td>0.511595</td>\n",
       "      <td>0.68894</td>\n",
       "      <td>BernoulliNB</td>\n",
       "    </tr>\n",
       "  </tbody>\n",
       "</table>\n",
       "</div>"
      ],
      "text/plain": [
       "   accuracy  precision  specificity    recall        f1  average_precision  \\\n",
       "0  0.642755   0.595956     0.669042  0.502844  0.545455           0.511595   \n",
       "0  0.642755   0.595956     0.669042  0.502844  0.545455           0.511595   \n",
       "\n",
       "   roc_auc          classifier  \n",
       "0  0.68894  LogisticRegression  \n",
       "0  0.68894         BernoulliNB  "
      ]
     },
     "execution_count": 22,
     "metadata": {},
     "output_type": "execute_result"
    }
   ],
   "source": [
    "def remove_uncertain_predictions(proba, labels, threshold=.5):\n",
    "    df = pd.DataFrame({\n",
    "        'proba_neg':proba.T[0],\n",
    "        'proba_pos':proba.T[1],\n",
    "        'labels':labels\n",
    "    })\n",
    "    df = df.loc[(df['proba_pos'] > threshold) | ((df['proba_neg'] > threshold))]\n",
    "    return np.vstack([df['proba_neg'].values,df['proba_pos'].values]).T, df['labels'].values, df\n",
    "\n",
    "model_performance_df = pd.DataFrame()\n",
    "\n",
    "for model in d['classifiers']:\n",
    "    proba = d['classifiers'][model].predict_proba(features_test)\n",
    "    row = results_to_table(proba,labels_test)\n",
    "    row['classifier'] = model\n",
    "    model_performance_df = model_performance_df.append(row)\n",
    "    \n",
    "model_performance_df"
   ]
  },
  {
   "cell_type": "code",
   "execution_count": 46,
   "id": "mediterranean-domain",
   "metadata": {},
   "outputs": [
    {
     "data": {
      "image/png": "[encoded data removed]",
      "text/plain": [
       "<Figure size 432x288 with 1 Axes>"
      ]
     },
     "metadata": {
      "needs_background": "light"
     },
     "output_type": "display_data"
    }
   ],
   "source": [
    "# Compute ROC curve and ROC area for each class\n",
    "plt.figure()\n",
    "lw = 2\n",
    "    \n",
    "for model in d['classifiers']:\n",
    "    proba = d['classifiers'][model].predict_proba(features_test)\n",
    "\n",
    "    fpr = dict()\n",
    "    tpr = dict()\n",
    "    roc_auc = dict()\n",
    "    for i in range(2):\n",
    "        fpr[i], tpr[i], _ = roc_curve(labels_test, proba[:, i])\n",
    "        roc_auc[i] = auc(fpr[i], tpr[i])\n",
    "\n",
    "    plt.plot(fpr[1], tpr[1], #color='darkorange',\n",
    "             lw=lw, label='{0} (area = {1:.2f})'.format(model,float(roc_auc[1])))\n",
    "    \n",
    "plt.plot([0, 1], [0, 1], color='navy', lw=lw, linestyle='--')    \n",
    "plt.xlim([0.0, 1.0])\n",
    "plt.ylim([0.0, 1.05])\n",
    "plt.xlabel('False Positive Rate')\n",
    "plt.ylabel('True Positive Rate')\n",
    "plt.title('Receiver operating characteristic example')\n",
    "plt.legend(loc=\"lower right\")\n",
    "plt.show()"
   ]
  },
  {
   "cell_type": "code",
   "execution_count": 70,
   "id": "informative-blocking",
   "metadata": {},
   "outputs": [
    {
     "data": {
      "image/png": "[encoded data removed]",
      "text/plain": [
       "<Figure size 432x288 with 1 Axes>"
      ]
     },
     "metadata": {
      "needs_background": "light"
     },
     "output_type": "display_data"
    }
   ],
   "source": [
    "plt.figure()\n",
    "lw = 2\n",
    "for model in d['classifiers']:\n",
    "    proba = d['classifiers'][model].predict_proba(features_test)\n",
    "    precision, recall, thresholds = precision_recall_curve(labels_test, proba[:, 1])\n",
    "    plt.plot(recall, precision, #color='darkorange',\n",
    "             lw=lw, label='{0}'.format(model))\n",
    "\n",
    "plt.xlim([0.0, 1.0])\n",
    "plt.ylim([0.0, 1.05])\n",
    "plt.xlabel('Recall')\n",
    "plt.ylabel('Precision')\n",
    "plt.title('Precision Recall Curve')\n",
    "plt.legend(loc=\"lower right\")\n",
    "plt.show()"
   ]
  },
  {
   "cell_type": "code",
   "execution_count": 78,
   "id": "successful-fisher",
   "metadata": {},
   "outputs": [
    {
     "data": {
      "image/png": "[encoded data removed]",
      "text/plain": [
       "<Figure size 432x288 with 1 Axes>"
      ]
     },
     "metadata": {
      "needs_background": "light"
     },
     "output_type": "display_data"
    }
   ],
   "source": [
    "plt.figure()\n",
    "lw = 2\n",
    "for model in d['classifiers']:\n",
    "    proba = d['classifiers'][model].predict_proba(features_test)\n",
    "    precision, recall, thresholds = precision_recall_curve(labels_test, proba[:, 0],pos_label=-1)\n",
    "    plt.plot(recall, precision, #color='darkorange',\n",
    "             lw=lw, label='{0}'.format(model))\n",
    "\n",
    "plt.xlim([0.0, 1.0])\n",
    "plt.ylim([0.0, 1.05])\n",
    "plt.xlabel('Specificity')\n",
    "plt.ylabel('Negative Predictive Value')\n",
    "plt.title('Negative Predictive Value vs Specificity Curve')\n",
    "plt.legend(loc=\"lower right\")\n",
    "plt.show()"
   ]
  },
  {
   "cell_type": "code",
   "execution_count": 84,
   "id": "correct-shuttle",
   "metadata": {},
   "outputs": [
    {
     "name": "stdout",
     "output_type": "stream",
     "text": [
      "[0.02856217 0.02961613 0.02993904 ... 0.87858294 0.88485739 0.89835411]\n",
      "[0.10164589 0.11514261 0.12141706 ... 0.97825936 0.98084664 0.98114681]\n"
     ]
    },
    {
     "data": {
      "image/png": "[encoded data removed]",
      "text/plain": [
       "<Figure size 432x288 with 1 Axes>"
      ]
     },
     "metadata": {
      "needs_background": "light"
     },
     "output_type": "display_data"
    }
   ],
   "source": [
    "plt.figure()\n",
    "lw = 2\n",
    "for label in [1,-1]:\n",
    "    if label == -1:\n",
    "        x=0\n",
    "        text=\"unhelpful\"\n",
    "        \n",
    "    else:\n",
    "        x=1\n",
    "        text=\"helpful\"\n",
    "    proba = d['classifiers']['LogisticRegression'].predict_proba(features_test)\n",
    "    precision, recall, thresholds = precision_recall_curve(labels_test, proba[:, x],pos_label=label)\n",
    "    plt.plot(recall, precision, #color='darkorange',\n",
    "             lw=lw, label='{0}'.format(text))\n",
    "\n",
    "plt.xlim([0.0, 1.0])\n",
    "plt.ylim([0.0, 1.05])\n",
    "plt.xlabel('Recall')\n",
    "plt.ylabel('Precision')\n",
    "plt.title('Precision Recall Curve')\n",
    "plt.legend(loc=\"lower right\")\n",
    "plt.show()"
   ]
  },
  {
   "cell_type": "code",
   "execution_count": 77,
   "id": "lovely-johnston",
   "metadata": {},
   "outputs": [
    {
     "name": "stdout",
     "output_type": "stream",
     "text": [
      "21036\n",
      "   accuracy  precision  specificity    recall        f1  average_precision  \\\n",
      "0  0.642755   0.595956     0.669042  0.502844  0.545455           0.511595   \n",
      "\n",
      "   roc_auc  \n",
      "0  0.68894  \n",
      "2663\n",
      "   accuracy  precision  specificity    recall        f1  average_precision  \\\n",
      "0  0.855051   0.622642      0.85977  0.082707  0.146018           0.188936   \n",
      "\n",
      "    roc_auc  \n",
      "0  0.576421  \n",
      "21036\n",
      "   accuracy  precision  specificity    recall        f1  average_precision  \\\n",
      "0  0.642755   0.595956     0.669042  0.502844  0.545455           0.511595   \n",
      "\n",
      "   roc_auc  \n",
      "0  0.68894  \n"
     ]
    }
   ],
   "source": [
    "proba = d['classifiers']['LogisticRegression'].predict_proba(features_test)\n",
    "t_proba, t_labels, _ = remove_uncertain_predictions(proba,labels_test,.5)\n",
    "print(len(t_proba))\n",
    "print(results_to_table(t_proba,t_labels))\n",
    "t_proba, t_labels, df = remove_uncertain_predictions(proba,labels_test,.8)\n",
    "print(len(t_proba))\n",
    "print(results_to_table(t_proba,t_labels))\n",
    "print(len(labels_test))\n",
    "print(results_to_table(proba,labels_test))"
   ]
  },
  {
   "cell_type": "code",
   "execution_count": null,
   "id": "noble-yesterday",
   "metadata": {},
   "outputs": [],
   "source": []
  }
 ],
 "metadata": {
  "kernelspec": {
   "display_name": "Python 3",
   "language": "python",
   "name": "python3"
  },
  "language_info": {
   "codemirror_mode": {
    "name": "ipython",
    "version": 3
   },
   "file_extension": ".py",
   "mimetype": "text/x-python",
   "name": "python",
   "nbconvert_exporter": "python",
   "pygments_lexer": "ipython3",
   "version": "3.7.3"
  }
 },
 "nbformat": 4,
 "nbformat_minor": 5
}
